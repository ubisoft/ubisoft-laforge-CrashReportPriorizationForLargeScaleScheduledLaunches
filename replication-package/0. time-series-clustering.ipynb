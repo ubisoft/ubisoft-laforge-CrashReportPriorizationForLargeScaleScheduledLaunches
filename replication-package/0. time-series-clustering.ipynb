{
 "cells": [
  {
   "cell_type": "code",
   "execution_count": null,
   "id": "14835099-d3ac-4477-ada1-8568716fa149",
   "metadata": {},
   "outputs": [],
   "source": [
    "import pandas as pd\n",
    "from datetime import datetime\n",
    "import matplotlib.pyplot as plt"
   ]
  },
  {
   "cell_type": "code",
   "execution_count": null,
   "id": "dfa9f7aa-91ae-4e7e-9f8c-8b2b9d4fb108",
   "metadata": {},
   "outputs": [],
   "source": [
    "import warnings\n",
    "warnings.filterwarnings('ignore')\n",
    "home='data/\""
   ]
  },
  {
   "cell_type": "code",
   "execution_count": null,
   "id": "75a7532f-da1a-4e06-b7c0-2380120facb4",
   "metadata": {},
   "outputs": [],
   "source": [
    "daily_count = pd.read_csv(home+r'occurrence_df_counts_daily.csv')\n",
    "live_user_daily_counts_after_release = daily_count[(daily_count['project_key']=='g1') & (daily_count['Live_User']) & (daily_count['CreationDateObj']>='20xx-xx-xx')]\n",
    "daily_counts = live_user_daily_counts_after_release"
   ]
  },
  {
   "cell_type": "code",
   "execution_count": null,
   "id": "fc2a5211-7981-48bb-a4cf-f15423909431",
   "metadata": {},
   "outputs": [],
   "source": [
    "live_user_daily_counts = daily_counts[daily_counts['live player']]"
   ]
  },
  {
   "cell_type": "code",
   "execution_count": null,
   "id": "172850b4-db1a-4075-af14-d96674f5d5ee",
   "metadata": {},
   "outputs": [],
   "source": [
    "live_user_daily_counts = live_user_daily_counts[live_user_daily_counts['CreationDateObj']<='20xx-xx-xx']"
   ]
  },
  {
   "cell_type": "code",
   "execution_count": null,
   "id": "53d4c53e-178f-491b-9580-95dc86d14109",
   "metadata": {
    "scrolled": true
   },
   "outputs": [],
   "source": [
    "live_user_daily_counts"
   ]
  },
  {
   "cell_type": "code",
   "execution_count": null,
   "id": "7cf4272c-c317-41d9-a344-30a0700f25df",
   "metadata": {},
   "outputs": [],
   "source": [
    "live_user_daily_counts['CreationDate'] = live_user_daily_counts['CreationDateObj']\n",
    "live_user_daily_counts['ReportIds'] = live_user_daily_counts['ReportId']"
   ]
  },
  {
   "cell_type": "code",
   "execution_count": null,
   "id": "3150eaf6-e979-4f46-b82e-e73332501dae",
   "metadata": {},
   "outputs": [],
   "source": [
    "import pandas as pd\n",
    "import numpy as np\n",
    "import matplotlib.pyplot as plt\n",
    "from tslearn.clustering import TimeSeriesKMeans\n",
    "from tslearn.preprocessing import TimeSeriesScalerMeanVariance\n",
    "from tslearn.clustering import KShape\n",
    "from tslearn.clustering import KernelKMeans"
   ]
  },
  {
   "cell_type": "code",
   "execution_count": null,
   "id": "e4a511dd-90fe-4fef-9932-846666a2571c",
   "metadata": {
    "scrolled": true
   },
   "outputs": [],
   "source": [
    "\n",
    "\n",
    "# Sample DataFrame\n",
    "data = live_user_daily_counts\n",
    "\n",
    "df = pd.DataFrame(data)\n",
    "\n",
    "# Convert 'date' to datetime format\n",
    "df['CreationDate'] = pd.to_datetime(df['CreationDate'])\n",
    "\n",
    "# Function to fill missing dates for each crash type\n",
    "def fill_missing_dates(df, full_date_range):\n",
    "    return df.set_index('CreationDate').reindex(full_date_range).fillna(0).reset_index()\n",
    "\n",
    "dfs = []\n",
    "for CrashType in df['CrashType'].unique():\n",
    "    df_ = df[df['CrashType']==CrashType]\n",
    "    # Create a complete date range (based on min and max dates in the dataset)\n",
    "    full_date_range = pd.date_range(start=df_['CreationDate'].min(), end=df_['CreationDate'].max(), freq='D')\n",
    "    # Fill missing dates for each crash type with 0 counts\n",
    "    df_full = df_.groupby('CrashType').apply(lambda group: fill_missing_dates(group, full_date_range)).reset_index(drop=True)\n",
    "    df_full['acc_ReportIds'] = df_full['ReportIds'].cumsum()\n",
    "    df_full['log_acc_ReportIds'] = df_full['acc_ReportIds'].map(np.log)\n",
    "    dfs.append(df_full)\n"
   ]
  },
  {
   "cell_type": "code",
   "execution_count": null,
   "id": "e11d4da3-4360-4c47-9400-fdfaee482002",
   "metadata": {
    "scrolled": true
   },
   "outputs": [],
   "source": [
    "col = \"log_acc_ReportIds\"\n",
    "new_vis_df_CrashTypes = []\n",
    "new_vis_df_values = []\n",
    "dfs_ = []\n",
    "for df_full in dfs:\n",
    "    df_full['CrashType'] = df_full['CrashType'].values[0]\n",
    "    dfs_.append(df_full)\n",
    "    new_vis_df_CrashTypes.append(df_full['CrashType'].values[0])\n",
    "    new_vis_df_values.append(df_full[col].values)\n",
    "    \n",
    "df_full = pd.concat(dfs_)\n",
    "new_vis_df = pd.DataFrame({\"CrashType\":new_vis_df_CrashTypes,\n",
    "                           col:new_vis_df_values})\n",
    "\n",
    "#stopped"
   ]
  },
  {
   "cell_type": "code",
   "execution_count": null,
   "id": "f9a52289-ae9a-4a77-917b-e7f9b740c13a",
   "metadata": {},
   "outputs": [],
   "source": [
    "from sklearn.metrics import silhouette_score\n",
    "\n",
    "days = 60\n",
    "X = []\n",
    "for li in new_vis_df[col].values:\n",
    "    li = li.tolist()\n",
    "    if len(li)>=days:\n",
    "        X.append(np.array(li[:days]))\n",
    "    else:\n",
    "        X.append(np.array(li+[li[-1] for i in range(days-len(li))]))\n",
    "X = np.array(X)\n",
    "print(X[0])\n",
    "\n",
    "# Test multiple values of 'n_clusters' and calculate silhouette scores\n",
    "best_n_clusters = 2\n",
    "best_silhouette = -1\n",
    "silhouette_scores = []\n",
    "\n",
    "for n_clusters in range(2, 40):  # Test between 2 and 20 clusters\n",
    "    kmeans = TimeSeriesKMeans(n_clusters=n_clusters, metric=\"euclidean\", random_state=0)\n",
    "    clusters = kmeans.fit_predict(X)\n",
    "    \n",
    "    # Compute the silhouette score\n",
    "    score = silhouette_score(X.reshape(X.shape[0], -1), clusters)\n",
    "    silhouette_scores.append(score)\n",
    "    \n",
    "    print(f\"Number of clusters: {n_clusters}, Silhouette Score: {score}\")\n",
    "    \n",
    "    # Track the best score\n",
    "    if score > best_silhouette:\n",
    "        best_silhouette = score\n",
    "        best_n_clusters = n_clusters#0.997--0.959\n"
   ]
  },
  {
   "cell_type": "code",
   "execution_count": null,
   "id": "10ede602-d110-4c63-8021-844988068985",
   "metadata": {
    "scrolled": true
   },
   "outputs": [],
   "source": [
    "#started\n",
    "days = 60\n",
    "X = []\n",
    "for li in new_vis_df[col].values:\n",
    "    li = li.tolist()\n",
    "    if len(li)>=days:\n",
    "        X.append(li[:days])\n",
    "    else:\n",
    "        X.append(li+[li[-1] for i in range(days-len(li))])\n",
    "n_clusters = 11  # Define number of clusters\n",
    "kmeans = TimeSeriesKMeans(n_clusters=n_clusters, metric=\"euclidean\", random_state=0)\n",
    "# X_scale = TimeSeriesScalerMeanVariance(mu=0., std=1.).fit_transform(X)\n",
    "clusters = kmeans.fit_predict(X)\n",
    "\n",
    "for cluster_idx in range(n_clusters):\n",
    "    plt.figure(figsize=(5, 2))\n",
    "    j=0\n",
    "    series_ = []\n",
    "    for i, series in enumerate(X):\n",
    "        if clusters[i] == cluster_idx:\n",
    "            series_.append(np.array(series))\n",
    "            \n",
    "    mean = np.mean(np.array(series_), axis=0)\n",
    "    std_error = np.std(np.array(series_), axis=0) / np.sqrt(np.array(series_).shape[0])\n",
    "    confidence_interval = 1.96 * std_error  # For a 95% confidence level\n",
    "    #counts.append(len(series_))\n",
    "\n",
    "    plt.plot(mean, color='black', label='Mean')\n",
    "    plt.fill_between([i for i in range(days)], mean - confidence_interval, mean + confidence_interval, \n",
    "                 color='black', alpha=0.2, label='95% Confidence Interval')\n",
    "    #plt.gca().get_yaxis().set_visible(False)\n",
    "    \n",
    "\n",
    "    #plt.yscale('log')\n",
    "\n",
    "    plt.title(f'Cluster {cluster_idx+1} {len(series_)} crash types')\n",
    "    plt.xlabel('Days')\n",
    "    plt.ylabel('Accumulated\\nOccurrences')\n",
    "    plt.tight_layout()\n",
    "    #plt.ylim(1,10000)\n",
    "    # plt.gca().set_yticks([])\n",
    "    plt.show()\n",
    "\n"
   ]
  },
  {
   "cell_type": "code",
   "execution_count": null,
   "id": "1de92f01-ad29-4445-8156-5da6e2458fc0",
   "metadata": {},
   "outputs": [],
   "source": []
  }
 ],
 "metadata": {
  "kernelspec": {
   "display_name": "Python 3 (ipykernel)",
   "language": "python",
   "name": "python3"
  },
  "language_info": {
   "codemirror_mode": {
    "name": "ipython",
    "version": 3
   },
   "file_extension": ".py",
   "mimetype": "text/x-python",
   "name": "python",
   "nbconvert_exporter": "python",
   "pygments_lexer": "ipython3",
   "version": "3.12.3"
  }
 },
 "nbformat": 4,
 "nbformat_minor": 5
}
